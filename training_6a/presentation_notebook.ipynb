{
 "cells": [
  {
   "cell_type": "markdown",
   "metadata": {
    "slideshow": {
     "slide_type": "slide"
    }
   },
   "source": [
    "# Dynamic Documents with Jupyter Notebooks "
   ]
  },
  {
   "cell_type": "markdown",
   "metadata": {
    "slideshow": {
     "slide_type": "slide"
    }
   },
   "source": [
    "## Before We Begin\n",
    "\n",
    "- Special thanks to Oscar Barriga Cabanillas for helping out today\n",
    "- Thank you for BITSS for organizing \n",
    "- How has it been so far?\n",
    "- A Question: \n",
    "    - How familiar are you with python? Jupyter?\n",
    "    - What are you thinking of getting out of this talk?\n",
    "    "
   ]
  },
  {
   "cell_type": "markdown",
   "metadata": {
    "slideshow": {
     "slide_type": "slide"
    }
   },
   "source": [
    "## How to watch this presentation:\n",
    "- Either:\n",
    "    - `git clone` the repository\n",
    "    - Start up jupyter lab\n",
    "    - open `presentation.ipynb`\n",
    "    - follow along\n",
    "- Or:\n",
    "    - Go to the repository and press the `Launch Binder` Button\n",
    "    - To be explained later.\n",
    "    "
   ]
  },
  {
   "cell_type": "markdown",
   "metadata": {
    "slideshow": {
     "slide_type": "slide"
    }
   },
   "source": [
    "## Why Dynamic Documents?\n",
    "\n",
    "Dynamic Documents are a part of the bigger picture of Reproducible Science. Sure, there is a fixed cost; **BUT**, they make my life easier in these ways:\n",
    "\n",
    "- Short term: Easier to document fresh out of the oven results\n",
    "- Medium term: Fast, reliable and tractable new results\n",
    "- Long term: You can see how everything was created\n"
   ]
  },
  {
   "cell_type": "markdown",
   "metadata": {
    "slideshow": {
     "slide_type": "slide"
    }
   },
   "source": [
    "## What are Dynamic Documents?\n",
    "\n",
    "Based on principles of literate programming, we aim at combining code and paper in one single document\n",
    "\n",
    "- Best framework to achieve the holy grail of one-click reproducible workflow\n",
    "- Best two current implementations: RMarkdown (R) & Jupyter (Python).\n",
    "- Stata is catching up: We will come back to this in a second\n"
   ]
  },
  {
   "cell_type": "markdown",
   "metadata": {
    "slideshow": {
     "slide_type": "slide"
    }
   },
   "source": [
    "## The State of Things Now\n",
    "\n",
    "Currently, the code and the narrative components live in separate universes\n",
    "\n",
    "<img src=\"figures/flow_3.png\" width=\"1000\">\n"
   ]
  },
  {
   "cell_type": "markdown",
   "metadata": {
    "slideshow": {
     "slide_type": "slide"
    }
   },
   "source": [
    "## Part of Larger Workflow\n",
    "\n",
    "- Dynamic documents are best used as part of a larger organized workflow\n",
    "    - Structuring folders: Data, analysis, output\n",
    "    - Documenting code\n",
    "    - Combining both into a final document: Pre analysis or final paper\n"
   ]
  },
  {
   "cell_type": "markdown",
   "metadata": {},
   "source": [
    "## Markdown's Entrance\n",
    "\n",
    "- In terms of writing the \"paper\"/documentation part of dynamic documents, there are many solutions\n",
    "    - Latex, HTML, RST (ReStructured Text)\n",
    "- But most have honed in on using Markdown\n",
    "    - Markdown is an easy way to write formatted text in a plain text format\n",
    "    - But without as verbose and difficult of a syntax like latex/HTML\n",
    "- Although basic markdown has the basics for formatting, creating tables, adding figures\n",
    "- We will use Pandoc, which is used in both the Stata and R sessions"
   ]
  },
  {
   "cell_type": "markdown",
   "metadata": {},
   "source": [
    "## Markdown Cheatsheet\n",
    "\n",
    "There are loads of markdown cheatsheats on the web. One can be found [here](https://www.markdownguide.org/cheat-sheet/)"
   ]
  },
  {
   "cell_type": "markdown",
   "metadata": {},
   "source": [
    "## Headings\n",
    "\n",
    "```\n",
    "Title -> # Title\n",
    "Section -> ## Section\n",
    "Subsection -> ### Subsection\n",
    "Subsubsubsection ->  #### Subsubsubsection\n",
    "```"
   ]
  },
  {
   "cell_type": "markdown",
   "metadata": {},
   "source": [
    "## Lists\n",
    "\n",
    "- My list\n",
    "    - an *italic* and **bold** nested list\n",
    "    \n",
    "```\n",
    "- My List\n",
    "    - an *italic* and **bold** nested list\n",
    "```"
   ]
  },
  {
   "cell_type": "markdown",
   "metadata": {},
   "source": [
    "## Math\n",
    "\n",
    "We assume that comparative advantage is $\\alpha$ and $\\alpha = \\beta + \\gamma$\n",
    "\n",
    "```\n",
    "We assume that comparative advantage is $\\alpha$ and $\\alpha = \\beta + \\gamma$\n",
    "```"
   ]
  },
  {
   "cell_type": "markdown",
   "metadata": {},
   "source": [
    "$$\\begin{aligned}\n",
    "y_{it} = X_{it}\\beta + \\varepsilon_{it} \\\\\n",
    "X_{it}  = Z_{it}\\gamma + \\nu_{it}\n",
    "\\end{aligned}$$\n",
    "\n",
    "```\n",
    "$$\\begin{aligned}\n",
    "y_{it} = X_{it}\\beta + \\varepsilon_{it} \\\\\n",
    "X_{it}  = Z_{it}\\gamma + \\nu_{it}\n",
    "\\end{aligned}$$\n",
    "```"
   ]
  },
  {
   "cell_type": "markdown",
   "metadata": {},
   "source": [
    "## What is Pandoc?\n",
    "\n",
    "- Pandoc is sort of what it says: pan (all), doc (document)\n",
    "- It's a way to convert between and across different file formats\n",
    "    - Word -> HTML\n",
    "    - Latex -> Markdown\n",
    "    - HTML -> XML\n",
    "    - Anything to anything\n",
    "- See Pandoc's [website](https://pandoc.org/MANUAL.html#options) for all input and output filetypes"
   ]
  },
  {
   "cell_type": "markdown",
   "metadata": {},
   "source": [
    "## The Magic of Pandoc\n",
    "\n",
    "- Pandoc and Markdown allows you to create one file that can then be used in many different places\n",
    "- Example:\n",
    "    - You're writing your CV and want to put it up in various places.\n",
    "    - Your website needs HTML\n",
    "    - One job posting allows PDF\n",
    "    - One job posting only allows Word\n",
    "- Ordinarily, you would need to have three versions, Word, HTML, PDF\n",
    "    - This might get unruly as you change one but forget to change the other\n",
    "    - What if there's another file format you might need?\n",
    "- With Pandoc and markdown, you would:\n",
    "    - write your CV in markdown\n",
    "    - convert to PDF, Word and PDF with pandoc"
   ]
  },
  {
   "cell_type": "markdown",
   "metadata": {
    "slideshow": {
     "slide_type": "slide"
    }
   },
   "source": [
    "## What are Jupyter Notebooks?\n",
    "\n",
    "- A way to do literate programming and dynamic documents \n",
    "- Provide code and writing/analysis, on a language agnostic platform\n",
    "    - Meaning that it is not restricted to just one language\n",
    "    - Currently there are so-called kernels for many languages\n",
    "    - Including Stata, Python, R, C, Golang, C++, Fortran and more coming!\n",
    "- Uses the power of Markdown/Latex Math and Code to tell a story and provide an efficient workflow\n",
    "- Convert into several different formats including Latex, HTML, Presentations etc...\n",
    "- The Jupyter server is also available in other text editors such as Atom and VS Code.\n",
    "- And now available in STATA!"
   ]
  },
  {
   "cell_type": "markdown",
   "metadata": {},
   "source": [
    "## Jupyter Implementations\n",
    "\n",
    "- Google Colab \n",
    "- Deepnote"
   ]
  },
  {
   "cell_type": "markdown",
   "metadata": {
    "slideshow": {
     "slide_type": "subslide"
    }
   },
   "source": [
    "## Under the Hood\n",
    "\n",
    "- You can think of Jupyter as broadly being made up of two parts:\n",
    "    - A JSON document that organizes text between markdown, code, figures, widgets, etc...\n",
    "    - A server that loads a \"kernel\" with a particular language and knows how to translate the markdown to formatted text and the code to execution\n",
    "    - A web interface (although not required) \n",
    "\n",
    "<img src=\"figures/DeepinScreenshot_select-area_20190107171714.png\" width=600>\n",
    "\n"
   ]
  },
  {
   "cell_type": "markdown",
   "metadata": {},
   "source": [
    "## Why Jupyter Notebooks?\n",
    "\n",
    "- Jupyter is ubiquitous\n",
    "- Jupyter is used by basically all of the data science community\n",
    "- Jupyter is used by other software (VS Code, Atom/Hydrogen)\n",
    "- Since Jupyter is a JSON document and built using web tools, anything that uses webtools can use it \n",
    "- Science and publishing is changing (PDFs are becoming old, open access and web journals are becoming more popular)\n",
    "    - Present results in a dynamic way\n",
    "    - Interactive\n",
    "    - More efficient to show quick interactive widget to experiment with colleagues/advisors than 50 figures in a static PDF"
   ]
  },
  {
   "cell_type": "markdown",
   "metadata": {
    "tags": [
     "remove-input"
    ]
   },
   "source": [
    "## Extensions\n",
    "\n",
    "JupyterLab (the web interface) comes with many extensions for anything you might want:\n",
    "\n",
    "- A language server\n",
    "- multicursor support \n",
    "- git integration\n",
    "- and more..."
   ]
  },
  {
   "cell_type": "markdown",
   "metadata": {
    "slideshow": {
     "slide_type": "slide"
    }
   },
   "source": [
    "## Running Code"
   ]
  },
  {
   "cell_type": "code",
   "execution_count": 1,
   "metadata": {
    "ExecuteTime": {
     "end_time": "2019-01-09T16:28:51.503822Z",
     "start_time": "2019-01-09T16:28:51.460436Z"
    },
    "hideCode": true,
    "hideOutput": false,
    "hidePrompt": true,
    "slideshow": {
     "slide_type": "-"
    },
    "tags": [
     "hide-input",
     "remove-input"
    ],
    "vscode": {
     "languageId": "python"
    }
   },
   "outputs": [
    {
     "name": "stdout",
     "output_type": "stream",
     "text": [
      "\n",
      "number of observations (_N) was 0, now 10\n",
      "\n",
      "\n",
      "\n"
     ]
    }
   ],
   "source": [
    "set obs 10\n",
    "\n",
    "gen x = runiform()\n",
    "gen treat = x > .2\n",
    "gen y = runiform()\n",
    "\n"
   ]
  },
  {
   "cell_type": "code",
   "execution_count": 2,
   "metadata": {
    "vscode": {
     "languageId": "python"
    }
   },
   "outputs": [
    {
     "data": {
      "text/html": [
       "<div>\n",
       "<style scoped>\n",
       "    .dataframe tbody tr th:only-of-type {\n",
       "        vertical-align: middle;\n",
       "    }\n",
       "\n",
       "    .dataframe tbody tr th {\n",
       "        vertical-align: top;\n",
       "    }\n",
       "\n",
       "    .dataframe thead th {\n",
       "        text-align: right;\n",
       "    }\n",
       "</style>\n",
       "<table border=\"1\" class=\"dataframe\">\n",
       "  <thead>\n",
       "    <tr style=\"text-align: right;\">\n",
       "      <th></th>\n",
       "      <th>x</th>\n",
       "      <th>treat</th>\n",
       "      <th>y</th>\n",
       "    </tr>\n",
       "  </thead>\n",
       "  <tbody>\n",
       "    <tr>\n",
       "      <th>1</th>\n",
       "      <td>.34887171</td>\n",
       "      <td>1</td>\n",
       "      <td>.20470947</td>\n",
       "    </tr>\n",
       "    <tr>\n",
       "      <th>2</th>\n",
       "      <td>.2668857</td>\n",
       "      <td>1</td>\n",
       "      <td>.89275867</td>\n",
       "    </tr>\n",
       "    <tr>\n",
       "      <th>3</th>\n",
       "      <td>.1366463</td>\n",
       "      <td>0</td>\n",
       "      <td>.5844658</td>\n",
       "    </tr>\n",
       "    <tr>\n",
       "      <th>4</th>\n",
       "      <td>.028556867</td>\n",
       "      <td>0</td>\n",
       "      <td>.36977914</td>\n",
       "    </tr>\n",
       "    <tr>\n",
       "      <th>5</th>\n",
       "      <td>.86893326</td>\n",
       "      <td>1</td>\n",
       "      <td>.85063088</td>\n",
       "    </tr>\n",
       "    <tr>\n",
       "      <th>6</th>\n",
       "      <td>.3508549</td>\n",
       "      <td>1</td>\n",
       "      <td>.39138186</td>\n",
       "    </tr>\n",
       "    <tr>\n",
       "      <th>7</th>\n",
       "      <td>.071105093</td>\n",
       "      <td>0</td>\n",
       "      <td>.11966132</td>\n",
       "    </tr>\n",
       "    <tr>\n",
       "      <th>8</th>\n",
       "      <td>.32336795</td>\n",
       "      <td>1</td>\n",
       "      <td>.75424343</td>\n",
       "    </tr>\n",
       "    <tr>\n",
       "      <th>9</th>\n",
       "      <td>.55510318</td>\n",
       "      <td>1</td>\n",
       "      <td>.69502336</td>\n",
       "    </tr>\n",
       "    <tr>\n",
       "      <th>10</th>\n",
       "      <td>.87599099</td>\n",
       "      <td>1</td>\n",
       "      <td>.68661523</td>\n",
       "    </tr>\n",
       "  </tbody>\n",
       "</table>\n",
       "</div>"
      ],
      "text/plain": [
       "\n",
       "     +-----------------------------+\n",
       "     |        x   treat          y |\n",
       "     |-----------------------------|\n",
       "  1. | .3488717       1   .2047095 |\n",
       "  2. | .2668857       1   .8927587 |\n",
       "  3. | .1366463       0   .5844658 |\n",
       "  4. | .0285569       0   .3697791 |\n",
       "  5. | .8689333       1   .8506309 |\n",
       "     |-----------------------------|\n",
       "  6. | .3508549       1   .3913819 |\n",
       "  7. | .0711051       0   .1196613 |\n",
       "  8. |  .323368       1   .7542434 |\n",
       "  9. | .5551032       1   .6950234 |\n",
       " 10. |  .875991       1   .6866152 |\n",
       "     +-----------------------------+\n",
       "\n"
      ]
     },
     "metadata": {},
     "output_type": "display_data"
    }
   ],
   "source": [
    "%browse"
   ]
  },
  {
   "cell_type": "markdown",
   "metadata": {},
   "source": [
    "## Figures"
   ]
  },
  {
   "cell_type": "code",
   "execution_count": null,
   "metadata": {
    "ExecuteTime": {
     "end_time": "2019-01-09T16:28:56.289091Z",
     "start_time": "2019-01-09T16:28:55.955454Z"
    },
    "hideCode": true,
    "ipub": {
     "figure": {
      "caption": "A plot",
      "height": 0.4,
      "label": "fig:flabel",
      "placement": "H",
      "widefigure": false
     }
    },
    "slideshow": {
     "slide_type": "subslide"
    },
    "tags": [
     "remove-input"
    ]
   },
   "outputs": [
    {
     "data": {
      "application/pdf": "[encoded data removed]",
      "image/svg+xml": "<?xml version=\"1.0\" encoding=\"UTF-8\" standalone=\"no\"?>\n<!-- This is a Stata 15.0 generated SVG file (http://www.stata.com) -->\n\n<svg version=\"1.1\" width=\"600px\" height=\"436px\" viewBox=\"0 0 3960 2880\" xmlns=\"http://www.w3.org/2000/svg\" xmlns:xlink=\"http://www.w3.org/1999/xlink\">\n\t<desc>Stata Graph - Graph</desc>\n\t<rect x=\"0\" y=\"0\" width=\"3960\" height=\"2880\" style=\"fill:#EAF2F3;stroke:none\"/>\n\t<rect x=\"0.00\" y=\"0.00\" width=\"3959.88\" height=\"2880.00\" style=\"fill:#EAF2F3\"/>\n\t<rect x=\"2.88\" y=\"2.88\" width=\"3954.12\" height=\"2874.24\" style=\"fill:none;stroke:#EAF2F3;stroke-width:5.76\"/>\n\t<rect x=\"390.80\" y=\"100.86\" width=\"3468.22\" height=\"2388.33\" style=\"fill:#FFFFFF\"/>\n\t<rect x=\"393.68\" y=\"103.74\" width=\"3462.46\" height=\"2382.57\" style=\"fill:none;stroke:#FFFFFF;stroke-width:5.76\"/>\n\t<line x1=\"390.80\" y1=\"2219.40\" x2=\"3859.02\" y2=\"2219.40\" style=\"stroke:#EAF2F3;stroke-width:8.64\"/>\n\t<line x1=\"390.80\" y1=\"1705.58\" x2=\"3859.02\" y2=\"1705.58\" style=\"stroke:#EAF2F3;stroke-width:8.64\"/>\n\t<line x1=\"390.80\" y1=\"1191.75\" x2=\"3859.02\" y2=\"1191.75\" style=\"stroke:#EAF2F3;stroke-width:8.64\"/>\n\t<line x1=\"390.80\" y1=\"677.92\" x2=\"3859.02\" y2=\"677.92\" style=\"stroke:#EAF2F3;stroke-width:8.64\"/>\n\t<line x1=\"390.80\" y1=\"164.22\" x2=\"3859.02\" y2=\"164.22\" style=\"stroke:#EAF2F3;stroke-width:8.64\"/>\n\t<circle cx=\"1784.85\" cy=\"2207.40\" r=\"26.35\" style=\"fill:#1A476F\"/>\n\t<circle cx=\"1784.85\" cy=\"2207.40\" r=\"22.03\" style=\"fill:none;stroke:#1A476F;stroke-width:8.64\"/>\n\t<circle cx=\"1472.13\" cy=\"439.70\" r=\"26.35\" style=\"fill:#1A476F\"/>\n\t<circle cx=\"1472.13\" cy=\"439.70\" r=\"22.03\" style=\"fill:none;stroke:#1A476F;stroke-width:8.64\"/>\n\t<circle cx=\"975.27\" cy=\"1231.72\" r=\"26.35\" style=\"fill:#1A476F\"/>\n\t<circle cx=\"975.27\" cy=\"1231.72\" r=\"22.03\" style=\"fill:none;stroke:#1A476F;stroke-width:8.64\"/>\n\t<circle cx=\"563.06\" cy=\"1783.29\" r=\"26.35\" style=\"fill:#1A476F\"/>\n\t<circle cx=\"563.06\" cy=\"1783.29\" r=\"22.03\" style=\"fill:none;stroke:#1A476F;stroke-width:8.64\"/>\n\t<circle cx=\"3768.68\" cy=\"547.98\" r=\"26.35\" style=\"fill:#1A476F\"/>\n\t<circle cx=\"3768.68\" cy=\"547.98\" r=\"22.03\" style=\"fill:none;stroke:#1A476F;stroke-width:8.64\"/>\n\t<circle cx=\"1792.52\" cy=\"1727.85\" r=\"26.35\" style=\"fill:#1A476F\"/>\n\t<circle cx=\"1792.52\" cy=\"1727.85\" r=\"22.03\" style=\"fill:none;stroke:#1A476F;stroke-width:8.64\"/>\n\t<circle cx=\"725.30\" cy=\"2425.95\" r=\"26.35\" style=\"fill:#1A476F\"/>\n\t<circle cx=\"725.30\" cy=\"2425.95\" r=\"22.03\" style=\"fill:none;stroke:#1A476F;stroke-width:8.64\"/>\n\t<circle cx=\"1687.58\" cy=\"795.61\" r=\"26.35\" style=\"fill:#1A476F\"/>\n\t<circle cx=\"1687.58\" cy=\"795.61\" r=\"22.03\" style=\"fill:none;stroke:#1A476F;stroke-width:8.64\"/>\n\t<circle cx=\"2571.65\" cy=\"947.71\" r=\"26.35\" style=\"fill:#1A476F\"/>\n\t<circle cx=\"2571.65\" cy=\"947.71\" r=\"22.03\" style=\"fill:none;stroke:#1A476F;stroke-width:8.64\"/>\n\t<circle cx=\"3795.66\" cy=\"969.36\" r=\"26.35\" style=\"fill:#1A476F\"/>\n\t<circle cx=\"3795.66\" cy=\"969.36\" r=\"22.03\" style=\"fill:none;stroke:#1A476F;stroke-width:8.64\"/>\n\t<line x1=\"390.80\" y1=\"2489.19\" x2=\"390.80\" y2=\"100.86\" style=\"stroke:#000000;stroke-width:5.76\"/>\n\t<line x1=\"390.80\" y1=\"2219.40\" x2=\"350.83\" y2=\"2219.40\" style=\"stroke:#000000;stroke-width:5.76\"/>\n\t<text x=\"300.72\" y=\"2219.40\" style=\"font-family:'Helvetica';font-size:99.99px;fill:#000000\" transform=\"rotate(-90 300.72,2219.40)\" text-anchor=\"middle\">.2</text>\n\t<line x1=\"390.80\" y1=\"1705.58\" x2=\"350.83\" y2=\"1705.58\" style=\"stroke:#000000;stroke-width:5.76\"/>\n\t<text x=\"300.72\" y=\"1705.58\" style=\"font-family:'Helvetica';font-size:99.99px;fill:#000000\" transform=\"rotate(-90 300.72,1705.58)\" text-anchor=\"middle\">.4</text>\n\t<line x1=\"390.80\" y1=\"1191.75\" x2=\"350.83\" y2=\"1191.75\" style=\"stroke:#000000;stroke-width:5.76\"/>\n\t<text x=\"300.72\" y=\"1191.75\" style=\"font-family:'Helvetica';font-size:99.99px;fill:#000000\" transform=\"rotate(-90 300.72,1191.75)\" text-anchor=\"middle\">.6</text>\n\t<line x1=\"390.80\" y1=\"677.92\" x2=\"350.83\" y2=\"677.92\" style=\"stroke:#000000;stroke-width:5.76\"/>\n\t<text x=\"300.72\" y=\"677.92\" style=\"font-family:'Helvetica';font-size:99.99px;fill:#000000\" transform=\"rotate(-90 300.72,677.92)\" text-anchor=\"middle\">.8</text>\n\t<line x1=\"390.80\" y1=\"164.22\" x2=\"350.83\" y2=\"164.22\" style=\"stroke:#000000;stroke-width:5.76\"/>\n\t<text x=\"300.72\" y=\"164.22\" style=\"font-family:'Helvetica';font-size:99.99px;fill:#000000\" transform=\"rotate(-90 300.72,164.22)\" text-anchor=\"middle\">1</text>\n\t<text x=\"190.71\" y=\"1294.96\" style=\"font-family:'Helvetica';font-size:99.99px;fill:#000000\" transform=\"rotate(-90 190.71,1294.96)\" text-anchor=\"middle\">y</text>\n\t<line x1=\"390.80\" y1=\"2489.19\" x2=\"3859.02\" y2=\"2489.19\" style=\"stroke:#000000;stroke-width:5.76\"/>\n\t<line x1=\"454.16\" y1=\"2489.19\" x2=\"454.16\" y2=\"2529.16\" style=\"stroke:#000000;stroke-width:5.76\"/>\n\t<text x=\"454.16\" y=\"2619.14\" style=\"font-family:'Helvetica';font-size:99.99px;fill:#000000\" text-anchor=\"middle\">0</text>\n\t<line x1=\"1217.08\" y1=\"2489.19\" x2=\"1217.08\" y2=\"2529.16\" style=\"stroke:#000000;stroke-width:5.76\"/>\n\t<text x=\"1217.08\" y=\"2619.14\" style=\"font-family:'Helvetica';font-size:99.99px;fill:#000000\" text-anchor=\"middle\">.2</text>\n\t<line x1=\"1980.00\" y1=\"2489.19\" x2=\"1980.00\" y2=\"2529.16\" style=\"stroke:#000000;stroke-width:5.76\"/>\n\t<text x=\"1980.00\" y=\"2619.14\" style=\"font-family:'Helvetica';font-size:99.99px;fill:#000000\" text-anchor=\"middle\">.4</text>\n\t<line x1=\"2742.92\" y1=\"2489.19\" x2=\"2742.92\" y2=\"2529.16\" style=\"stroke:#000000;stroke-width:5.76\"/>\n\t<text x=\"2742.92\" y=\"2619.14\" style=\"font-family:'Helvetica';font-size:99.99px;fill:#000000\" text-anchor=\"middle\">.6</text>\n\t<line x1=\"3505.84\" y1=\"2489.19\" x2=\"3505.84\" y2=\"2529.16\" style=\"stroke:#000000;stroke-width:5.76\"/>\n\t<text x=\"3505.84\" y=\"2619.14\" style=\"font-family:'Helvetica';font-size:99.99px;fill:#000000\" text-anchor=\"middle\">.8</text>\n\t<text x=\"2124.91\" y=\"2729.16\" style=\"font-family:'Helvetica';font-size:99.99px;fill:#000000\" text-anchor=\"middle\">x</text>\n</svg>\n",
      "text/html": [
       "                <iframe frameborder=\"0\" scrolling=\"no\" height=\"436\" width=\"600\"                srcdoc=\"<html><body>&lt;?xml version=&quot;1.0&quot; encoding=&quot;UTF-8&quot; standalone=&quot;no&quot;?&gt;\n",
       "&lt;!-- This is a Stata 15.0 generated SVG file (http://www.stata.com) --&gt;\n",
       "\n",
       "&lt;svg version=&quot;1.1&quot; width=&quot;600px&quot; height=&quot;436px&quot; viewBox=&quot;0 0 3960 2880&quot; xmlns=&quot;http://www.w3.org/2000/svg&quot; xmlns:xlink=&quot;http://www.w3.org/1999/xlink&quot;&gt;\n",
       "\t&lt;desc&gt;Stata Graph - Graph&lt;/desc&gt;\n",
       "\t&lt;rect x=&quot;0&quot; y=&quot;0&quot; width=&quot;3960&quot; height=&quot;2880&quot; style=&quot;fill:#EAF2F3;stroke:none&quot;/&gt;\n",
       "\t&lt;rect x=&quot;0.00&quot; y=&quot;0.00&quot; width=&quot;3959.88&quot; height=&quot;2880.00&quot; style=&quot;fill:#EAF2F3&quot;/&gt;\n",
       "\t&lt;rect x=&quot;2.88&quot; y=&quot;2.88&quot; width=&quot;3954.12&quot; height=&quot;2874.24&quot; style=&quot;fill:none;stroke:#EAF2F3;stroke-width:5.76&quot;/&gt;\n",
       "\t&lt;rect x=&quot;390.80&quot; y=&quot;100.86&quot; width=&quot;3468.22&quot; height=&quot;2388.33&quot; style=&quot;fill:#FFFFFF&quot;/&gt;\n",
       "\t&lt;rect x=&quot;393.68&quot; y=&quot;103.74&quot; width=&quot;3462.46&quot; height=&quot;2382.57&quot; style=&quot;fill:none;stroke:#FFFFFF;stroke-width:5.76&quot;/&gt;\n",
       "\t&lt;line x1=&quot;390.80&quot; y1=&quot;2219.40&quot; x2=&quot;3859.02&quot; y2=&quot;2219.40&quot; style=&quot;stroke:#EAF2F3;stroke-width:8.64&quot;/&gt;\n",
       "\t&lt;line x1=&quot;390.80&quot; y1=&quot;1705.58&quot; x2=&quot;3859.02&quot; y2=&quot;1705.58&quot; style=&quot;stroke:#EAF2F3;stroke-width:8.64&quot;/&gt;\n",
       "\t&lt;line x1=&quot;390.80&quot; y1=&quot;1191.75&quot; x2=&quot;3859.02&quot; y2=&quot;1191.75&quot; style=&quot;stroke:#EAF2F3;stroke-width:8.64&quot;/&gt;\n",
       "\t&lt;line x1=&quot;390.80&quot; y1=&quot;677.92&quot; x2=&quot;3859.02&quot; y2=&quot;677.92&quot; style=&quot;stroke:#EAF2F3;stroke-width:8.64&quot;/&gt;\n",
       "\t&lt;line x1=&quot;390.80&quot; y1=&quot;164.22&quot; x2=&quot;3859.02&quot; y2=&quot;164.22&quot; style=&quot;stroke:#EAF2F3;stroke-width:8.64&quot;/&gt;\n",
       "\t&lt;circle cx=&quot;1784.85&quot; cy=&quot;2207.40&quot; r=&quot;26.35&quot; style=&quot;fill:#1A476F&quot;/&gt;\n",
       "\t&lt;circle cx=&quot;1784.85&quot; cy=&quot;2207.40&quot; r=&quot;22.03&quot; style=&quot;fill:none;stroke:#1A476F;stroke-width:8.64&quot;/&gt;\n",
       "\t&lt;circle cx=&quot;1472.13&quot; cy=&quot;439.70&quot; r=&quot;26.35&quot; style=&quot;fill:#1A476F&quot;/&gt;\n",
       "\t&lt;circle cx=&quot;1472.13&quot; cy=&quot;439.70&quot; r=&quot;22.03&quot; style=&quot;fill:none;stroke:#1A476F;stroke-width:8.64&quot;/&gt;\n",
       "\t&lt;circle cx=&quot;975.27&quot; cy=&quot;1231.72&quot; r=&quot;26.35&quot; style=&quot;fill:#1A476F&quot;/&gt;\n",
       "\t&lt;circle cx=&quot;975.27&quot; cy=&quot;1231.72&quot; r=&quot;22.03&quot; style=&quot;fill:none;stroke:#1A476F;stroke-width:8.64&quot;/&gt;\n",
       "\t&lt;circle cx=&quot;563.06&quot; cy=&quot;1783.29&quot; r=&quot;26.35&quot; style=&quot;fill:#1A476F&quot;/&gt;\n",
       "\t&lt;circle cx=&quot;563.06&quot; cy=&quot;1783.29&quot; r=&quot;22.03&quot; style=&quot;fill:none;stroke:#1A476F;stroke-width:8.64&quot;/&gt;\n",
       "\t&lt;circle cx=&quot;3768.68&quot; cy=&quot;547.98&quot; r=&quot;26.35&quot; style=&quot;fill:#1A476F&quot;/&gt;\n",
       "\t&lt;circle cx=&quot;3768.68&quot; cy=&quot;547.98&quot; r=&quot;22.03&quot; style=&quot;fill:none;stroke:#1A476F;stroke-width:8.64&quot;/&gt;\n",
       "\t&lt;circle cx=&quot;1792.52&quot; cy=&quot;1727.85&quot; r=&quot;26.35&quot; style=&quot;fill:#1A476F&quot;/&gt;\n",
       "\t&lt;circle cx=&quot;1792.52&quot; cy=&quot;1727.85&quot; r=&quot;22.03&quot; style=&quot;fill:none;stroke:#1A476F;stroke-width:8.64&quot;/&gt;\n",
       "\t&lt;circle cx=&quot;725.30&quot; cy=&quot;2425.95&quot; r=&quot;26.35&quot; style=&quot;fill:#1A476F&quot;/&gt;\n",
       "\t&lt;circle cx=&quot;725.30&quot; cy=&quot;2425.95&quot; r=&quot;22.03&quot; style=&quot;fill:none;stroke:#1A476F;stroke-width:8.64&quot;/&gt;\n",
       "\t&lt;circle cx=&quot;1687.58&quot; cy=&quot;795.61&quot; r=&quot;26.35&quot; style=&quot;fill:#1A476F&quot;/&gt;\n",
       "\t&lt;circle cx=&quot;1687.58&quot; cy=&quot;795.61&quot; r=&quot;22.03&quot; style=&quot;fill:none;stroke:#1A476F;stroke-width:8.64&quot;/&gt;\n",
       "\t&lt;circle cx=&quot;2571.65&quot; cy=&quot;947.71&quot; r=&quot;26.35&quot; style=&quot;fill:#1A476F&quot;/&gt;\n",
       "\t&lt;circle cx=&quot;2571.65&quot; cy=&quot;947.71&quot; r=&quot;22.03&quot; style=&quot;fill:none;stroke:#1A476F;stroke-width:8.64&quot;/&gt;\n",
       "\t&lt;circle cx=&quot;3795.66&quot; cy=&quot;969.36&quot; r=&quot;26.35&quot; style=&quot;fill:#1A476F&quot;/&gt;\n",
       "\t&lt;circle cx=&quot;3795.66&quot; cy=&quot;969.36&quot; r=&quot;22.03&quot; style=&quot;fill:none;stroke:#1A476F;stroke-width:8.64&quot;/&gt;\n",
       "\t&lt;line x1=&quot;390.80&quot; y1=&quot;2489.19&quot; x2=&quot;390.80&quot; y2=&quot;100.86&quot; style=&quot;stroke:#000000;stroke-width:5.76&quot;/&gt;\n",
       "\t&lt;line x1=&quot;390.80&quot; y1=&quot;2219.40&quot; x2=&quot;350.83&quot; y2=&quot;2219.40&quot; style=&quot;stroke:#000000;stroke-width:5.76&quot;/&gt;\n",
       "\t&lt;text x=&quot;300.72&quot; y=&quot;2219.40&quot; style=&quot;font-family:&#x27;Helvetica&#x27;;font-size:99.99px;fill:#000000&quot; transform=&quot;rotate(-90 300.72,2219.40)&quot; text-anchor=&quot;middle&quot;&gt;.2&lt;/text&gt;\n",
       "\t&lt;line x1=&quot;390.80&quot; y1=&quot;1705.58&quot; x2=&quot;350.83&quot; y2=&quot;1705.58&quot; style=&quot;stroke:#000000;stroke-width:5.76&quot;/&gt;\n",
       "\t&lt;text x=&quot;300.72&quot; y=&quot;1705.58&quot; style=&quot;font-family:&#x27;Helvetica&#x27;;font-size:99.99px;fill:#000000&quot; transform=&quot;rotate(-90 300.72,1705.58)&quot; text-anchor=&quot;middle&quot;&gt;.4&lt;/text&gt;\n",
       "\t&lt;line x1=&quot;390.80&quot; y1=&quot;1191.75&quot; x2=&quot;350.83&quot; y2=&quot;1191.75&quot; style=&quot;stroke:#000000;stroke-width:5.76&quot;/&gt;\n",
       "\t&lt;text x=&quot;300.72&quot; y=&quot;1191.75&quot; style=&quot;font-family:&#x27;Helvetica&#x27;;font-size:99.99px;fill:#000000&quot; transform=&quot;rotate(-90 300.72,1191.75)&quot; text-anchor=&quot;middle&quot;&gt;.6&lt;/text&gt;\n",
       "\t&lt;line x1=&quot;390.80&quot; y1=&quot;677.92&quot; x2=&quot;350.83&quot; y2=&quot;677.92&quot; style=&quot;stroke:#000000;stroke-width:5.76&quot;/&gt;\n",
       "\t&lt;text x=&quot;300.72&quot; y=&quot;677.92&quot; style=&quot;font-family:&#x27;Helvetica&#x27;;font-size:99.99px;fill:#000000&quot; transform=&quot;rotate(-90 300.72,677.92)&quot; text-anchor=&quot;middle&quot;&gt;.8&lt;/text&gt;\n",
       "\t&lt;line x1=&quot;390.80&quot; y1=&quot;164.22&quot; x2=&quot;350.83&quot; y2=&quot;164.22&quot; style=&quot;stroke:#000000;stroke-width:5.76&quot;/&gt;\n",
       "\t&lt;text x=&quot;300.72&quot; y=&quot;164.22&quot; style=&quot;font-family:&#x27;Helvetica&#x27;;font-size:99.99px;fill:#000000&quot; transform=&quot;rotate(-90 300.72,164.22)&quot; text-anchor=&quot;middle&quot;&gt;1&lt;/text&gt;\n",
       "\t&lt;text x=&quot;190.71&quot; y=&quot;1294.96&quot; style=&quot;font-family:&#x27;Helvetica&#x27;;font-size:99.99px;fill:#000000&quot; transform=&quot;rotate(-90 190.71,1294.96)&quot; text-anchor=&quot;middle&quot;&gt;y&lt;/text&gt;\n",
       "\t&lt;line x1=&quot;390.80&quot; y1=&quot;2489.19&quot; x2=&quot;3859.02&quot; y2=&quot;2489.19&quot; style=&quot;stroke:#000000;stroke-width:5.76&quot;/&gt;\n",
       "\t&lt;line x1=&quot;454.16&quot; y1=&quot;2489.19&quot; x2=&quot;454.16&quot; y2=&quot;2529.16&quot; style=&quot;stroke:#000000;stroke-width:5.76&quot;/&gt;\n",
       "\t&lt;text x=&quot;454.16&quot; y=&quot;2619.14&quot; style=&quot;font-family:&#x27;Helvetica&#x27;;font-size:99.99px;fill:#000000&quot; text-anchor=&quot;middle&quot;&gt;0&lt;/text&gt;\n",
       "\t&lt;line x1=&quot;1217.08&quot; y1=&quot;2489.19&quot; x2=&quot;1217.08&quot; y2=&quot;2529.16&quot; style=&quot;stroke:#000000;stroke-width:5.76&quot;/&gt;\n",
       "\t&lt;text x=&quot;1217.08&quot; y=&quot;2619.14&quot; style=&quot;font-family:&#x27;Helvetica&#x27;;font-size:99.99px;fill:#000000&quot; text-anchor=&quot;middle&quot;&gt;.2&lt;/text&gt;\n",
       "\t&lt;line x1=&quot;1980.00&quot; y1=&quot;2489.19&quot; x2=&quot;1980.00&quot; y2=&quot;2529.16&quot; style=&quot;stroke:#000000;stroke-width:5.76&quot;/&gt;\n",
       "\t&lt;text x=&quot;1980.00&quot; y=&quot;2619.14&quot; style=&quot;font-family:&#x27;Helvetica&#x27;;font-size:99.99px;fill:#000000&quot; text-anchor=&quot;middle&quot;&gt;.4&lt;/text&gt;\n",
       "\t&lt;line x1=&quot;2742.92&quot; y1=&quot;2489.19&quot; x2=&quot;2742.92&quot; y2=&quot;2529.16&quot; style=&quot;stroke:#000000;stroke-width:5.76&quot;/&gt;\n",
       "\t&lt;text x=&quot;2742.92&quot; y=&quot;2619.14&quot; style=&quot;font-family:&#x27;Helvetica&#x27;;font-size:99.99px;fill:#000000&quot; text-anchor=&quot;middle&quot;&gt;.6&lt;/text&gt;\n",
       "\t&lt;line x1=&quot;3505.84&quot; y1=&quot;2489.19&quot; x2=&quot;3505.84&quot; y2=&quot;2529.16&quot; style=&quot;stroke:#000000;stroke-width:5.76&quot;/&gt;\n",
       "\t&lt;text x=&quot;3505.84&quot; y=&quot;2619.14&quot; style=&quot;font-family:&#x27;Helvetica&#x27;;font-size:99.99px;fill:#000000&quot; text-anchor=&quot;middle&quot;&gt;.8&lt;/text&gt;\n",
       "\t&lt;text x=&quot;2124.91&quot; y=&quot;2729.16&quot; style=&quot;font-family:&#x27;Helvetica&#x27;;font-size:99.99px;fill:#000000&quot; text-anchor=&quot;middle&quot;&gt;x&lt;/text&gt;\n",
       "&lt;/svg&gt;\n",
       "</body></html>\"></iframe>\n"
      ],
      "text/plain": [
       "This front-end cannot display the desired image type."
      ]
     },
     "metadata": {
      "image/svg+xml": {
       "height": 436,
       "width": 600
      },
      "text/html": {
       "height": 436,
       "width": 600
      }
     },
     "output_type": "display_data"
    }
   ],
   "source": [
    "twoway scatter y x"
   ]
  },
  {
   "cell_type": "markdown",
   "metadata": {
    "slideshow": {
     "slide_type": "slide"
    }
   },
   "source": [
    "## Kernel Magics\n",
    "\n",
    "- Many Jupyter kernels have something called magics\n",
    "    - A way to make certain actions easy without having to write too much code\n",
    "    - Often language specific\n",
    "- All Stata magics can be found [here](https://kylebarron.dev/stata_kernel/using_stata_kernel/magics/)"
   ]
  },
  {
   "cell_type": "code",
   "execution_count": null,
   "metadata": {
    "vscode": {
     "languageId": "plaintext"
    }
   },
   "outputs": [],
   "source": []
  },
  {
   "cell_type": "code",
   "execution_count": null,
   "metadata": {},
   "outputs": [
    {
     "data": {
      "text/html": [
       "<div>\n",
       "<style scoped>\n",
       "    .dataframe tbody tr th:only-of-type {\n",
       "        vertical-align: middle;\n",
       "    }\n",
       "\n",
       "    .dataframe tbody tr th {\n",
       "        vertical-align: top;\n",
       "    }\n",
       "\n",
       "    .dataframe thead th {\n",
       "        text-align: right;\n",
       "    }\n",
       "</style>\n",
       "<table border=\"1\" class=\"dataframe\">\n",
       "  <thead>\n",
       "    <tr style=\"text-align: right;\">\n",
       "      <th></th>\n",
       "      <th>x</th>\n",
       "      <th>treat</th>\n",
       "      <th>y</th>\n",
       "    </tr>\n",
       "  </thead>\n",
       "  <tbody>\n",
       "    <tr>\n",
       "      <th>1</th>\n",
       "      <td>.34887171</td>\n",
       "      <td>1</td>\n",
       "      <td>.20470947</td>\n",
       "    </tr>\n",
       "    <tr>\n",
       "      <th>2</th>\n",
       "      <td>.2668857</td>\n",
       "      <td>1</td>\n",
       "      <td>.89275867</td>\n",
       "    </tr>\n",
       "    <tr>\n",
       "      <th>3</th>\n",
       "      <td>.1366463</td>\n",
       "      <td>0</td>\n",
       "      <td>.5844658</td>\n",
       "    </tr>\n",
       "    <tr>\n",
       "      <th>4</th>\n",
       "      <td>.028556867</td>\n",
       "      <td>0</td>\n",
       "      <td>.36977914</td>\n",
       "    </tr>\n",
       "    <tr>\n",
       "      <th>5</th>\n",
       "      <td>.86893326</td>\n",
       "      <td>1</td>\n",
       "      <td>.85063088</td>\n",
       "    </tr>\n",
       "  </tbody>\n",
       "</table>\n",
       "</div>"
      ],
      "text/plain": [
       "\n",
       "     +-----------------------------+\n",
       "     |        x   treat          y |\n",
       "     |-----------------------------|\n",
       "  1. | .3488717       1   .2047095 |\n",
       "  2. | .2668857       1   .8927587 |\n",
       "  3. | .1366463       0   .5844658 |\n",
       "  4. | .0285569       0   .3697791 |\n",
       "  5. | .8689333       1   .8506309 |\n",
       "     +-----------------------------+\n",
       "\n"
      ]
     },
     "metadata": {},
     "output_type": "display_data"
    }
   ],
   "source": [
    "%head 5"
   ]
  },
  {
   "cell_type": "code",
   "execution_count": null,
   "metadata": {
    "hideCode": false,
    "hideOutput": false
   },
   "outputs": [
    {
     "data": {
      "text/html": [
       "\n",
       "\n",
       "\n",
       "<table border=\"0\" width=\"*\">\n",
       "<tr><td colspan=2><hr></td></tr>\n",
       "<tr><td>            </td><td>         (1)              </td></tr>\n",
       "<tr><td>            </td><td>           y              </td></tr>\n",
       "<tr><td colspan=2><hr></td></tr>\n",
       "<tr><td>treat       </td><td>       0.139              </td></tr>\n",
       "<tr><td>            </td><td>      (0.57)              </td></tr>\n",
       "<tr><td colspan=2>&nbsp;</td></tr>\n",
       "<tr><td>x           </td><td>       0.328              </td></tr>\n",
       "<tr><td>            </td><td>      (0.84)              </td></tr>\n",
       "<tr><td colspan=2>&nbsp;</td></tr>\n",
       "<tr><td>_cons       </td><td>       0.332              </td></tr>\n",
       "<tr><td>            </td><td>      (2.24)              </td></tr>\n",
       "<tr><td colspan=2><hr></td></tr>\n",
       "<tr><td><i>N</i>    </td><td>          10              </td></tr>\n",
       "<tr><td colspan=2><hr></td></tr>\n",
       "<tr><td colspan=2>\n",
       "<i>t</i> statistics in parentheses\n",
       "<br /><sup>*</sup> <i>p</i> < 0.05, <sup>**</sup> <i>p</i> < 0.01, <sup>***</sup> <i>p</i> < 0.001\n",
       "</td></tr>\n",
       "</table>\n",
       "\n"
      ],
      "text/plain": [
       "This front-end or document format cannot display HTML"
      ]
     },
     "metadata": {},
     "output_type": "display_data"
    }
   ],
   "source": [
    "%html\n",
    "\n",
    "eststo model: qui reg y t x\n",
    "\n",
    "esttab model, html"
   ]
  },
  {
   "cell_type": "code",
   "execution_count": null,
   "metadata": {
    "hideCode": false,
    "hideOutput": false,
    "hidePrompt": true
   },
   "outputs": [
    {
     "data": {
      "text/latex": [
       "\n",
       "\n",
       "\n",
       "{\n",
       "\\def\\sym#1{\\ifmmode^{#1}\\else\\(^{#1}\\)\\fi}\n",
       "\\begin{tabular}{l*{1}{c}}\n",
       "\\hline\\hline\n",
       "            &\\multicolumn{1}{c}{(1)}\\\\\n",
       "            &\\multicolumn{1}{c}{y}\\\\\n",
       "\\hline\n",
       "treat       &       0.139         \\\\\n",
       "            &      (0.57)         \\\\\n",
       "[1em]\n",
       "x           &       0.328         \\\\\n",
       "            &      (0.84)         \\\\\n",
       "[1em]\n",
       "\\_cons      &       0.332         \\\\\n",
       "            &      (2.24)         \\\\\n",
       "\\hline\n",
       "\\(N\\)       &          10         \\\\\n",
       "\\hline\\hline\n",
       "\\multicolumn{2}{l}{\\footnotesize \\textit{t} statistics in parentheses}\\\\\n",
       "\\multicolumn{2}{l}{\\footnotesize \\sym{*} \\(p<0.05\\), \\sym{**} \\(p<0.01\\), \\sym{***} \\(p<0.001\\)}\\\\\n",
       "\\end{tabular}\n",
       "}\n",
       "\n"
      ],
      "text/plain": [
       "This front-end or document format cannot display LaTeX"
      ]
     },
     "metadata": {},
     "output_type": "display_data"
    }
   ],
   "source": [
    "%latex\n",
    "\n",
    "eststo model: qui reg y t x\n",
    "\n",
    "esttab model, tex"
   ]
  },
  {
   "cell_type": "markdown",
   "metadata": {
    "slideshow": {
     "slide_type": "slide"
    }
   },
   "source": [
    "## Exporting"
   ]
  },
  {
   "cell_type": "markdown",
   "metadata": {
    "ExecuteTime": {
     "end_time": "2019-01-08T00:26:56.799979Z",
     "start_time": "2019-01-08T00:26:56.778190Z"
    },
    "lang": "en",
    "slideshow": {
     "slide_type": "subslide"
    }
   },
   "source": [
    "- Exporting to HTML, PDF and slides is possible through the menu: File -> Export Notebook as -> PDF"
   ]
  },
  {
   "cell_type": "markdown",
   "metadata": {},
   "source": [
    "## Binder and Hosting Notebooks\n",
    "\n",
    "- Jupyter is great and all, but what if you advisor/boss doesn't have Jupyter installed?\n",
    "- What if they do, but they don't have all the dependencies needed for your cool dashboard?\n",
    "- That's where binder comes in\n",
    "- Binder uses `docker` to create a containerized version of your notebook with all dependencies installed and anyone can access it even if they don't have jupyter installed at all. \n",
    "- They just need a web browser\n",
    "- We've already seen how this works, either with the dashboard or with this very presentation!\n",
    "- All you need is a public github repository and notebook in that repository and that's it!\n",
    "- Waiting time for spinning up the notebook will vary\n",
    "- While it's spinning it up, any questions so far?"
   ]
  },
  {
   "cell_type": "markdown",
   "metadata": {
    "slideshow": {
     "slide_type": "slide"
    }
   },
   "source": [
    "## Port-forwarding and setting up Jupyter to work on a server\n",
    "\n",
    "- Many people might have servers in their universities/organizations that are more powerful than a laptop.\n",
    "- Jupyter allows the ability to run a notebook locally (on your laptop screen), but using the power of the server.\n",
    "    - This requires jupyter being installed on the server\n",
    "    - This isn't a difficult thing to do for a sysadmin, so it's worth finding out whether that's possible"
   ]
  },
  {
   "cell_type": "markdown",
   "metadata": {
    "slideshow": {
     "slide_type": "slide"
    }
   },
   "source": [
    "### Setting up jupyter on a server\n",
    "\n",
    "- The first thing you need to do is log on to the server and start a jupyter instance:\n",
    "\n",
    "`jupyter notebook --no-browser --port=8888`\n",
    "\n",
    "- This tells the server to start an instance of jupyter, without a browser (we won't need it, nor can a server open up a browser window), in port 8888 (this will be important later)\n",
    "- For Mac users, you can use `ssh` to finish the process. Just type:\n",
    "`ssh username@host -L 8888:localhost:8888`\n",
    "- Which will forward your computer 8888 port, to the server's 8888 port.\n",
    "\n",
    "- For Windows, ssh also exists, but you will need to enable it.\n",
    "    - head to Settings > Apps and click “Manage optional features” under Apps & features.\n",
    "    - Click Add a Feature, and find OpenSSH\n",
    "- Then use the same command as for Macs:\n",
    "`ssh username@host -L 8888:localhost:8888`\n",
    "\n",
    "- Then go to your browser:\n",
    "    - `localhost:8888` and you should be taken to a Jupyter page and prompted for a token. \n",
    "    - You can find this token in the window where you started Jupyter on the server\n",
    "        - Copy and paste this token into the prompt, and VOILA!\n",
    "- Now you have Jupyter running on your computer's browser window, but with the power of the server!\n"
   ]
  },
  {
   "cell_type": "markdown",
   "metadata": {
    "tags": [
     "remove-input"
    ]
   },
   "source": [
    "## Taking all this to Pure Text\n",
    "\n",
    "- One drawback of jupyter (besides dependencies) is the fact that you need to install all of this and use a browser \n",
    "- Not very good for version control\n",
    "- `Rmd` files (used with RMarkdown) are just markdown files with code cells.\n",
    "    - Great for version control\n",
    "    - Readble\n",
    "    - Easy to share and read in its raw form\n",
    "- Can we do this with Jupyter?\n",
    "    - Yes! with `jupytext`\n"
   ]
  },
  {
   "cell_type": "markdown",
   "metadata": {},
   "source": [
    "## Shameless self-promotion\n",
    "\n",
    "- Export notebook to a do-file!\n",
    "\n",
    "[https://github.com/amichuda/jupyter-doexport](https://github.com/amichuda/jupyter-doexport)\n",
    "\n",
    "\n"
   ]
  },
  {
   "cell_type": "markdown",
   "metadata": {},
   "source": [
    "## A Stata Equivalent?\n",
    "\n",
    "- `markstat`\n",
    "- `dyndoc`\n",
    "- `putdocx`\n",
    "- `putpdf`"
   ]
  },
  {
   "cell_type": "markdown",
   "metadata": {
    "tags": [
     "hide-input",
     "remove-input"
    ]
   },
   "source": [
    "## A New Development!\n",
    "\n",
    "-  Recently, `Quarto` has come on the scene\n",
    "- Developed by the same people as RMarkdown and Rstudio\n",
    "- Basically a one-stop Pandoc shop for creating documents IN BASICALLY ALL THE FORMATS\n",
    "    - East `.docx` conversion"
   ]
  }
 ],
 "metadata": {
  "hide_input": true,
  "jupytext": {
   "formats": "ipynb,md:myst"
  },
  "kernelspec": {
   "display_name": "Stata",
   "language": "stata",
   "name": "stata"
  },
  "language_info": {
   "codemirror_mode": "stata",
   "file_extension": ".do",
   "mimetype": "text/x-stata",
   "name": "stata",
   "version": "15.1"
  },
  "latex_envs": {
   "LaTeX_envs_menu_present": true,
   "autoclose": false,
   "autocomplete": true,
   "bibliofile": "example.bib",
   "cite_by": "apalike",
   "current_citInitial": 1,
   "eqLabelWithNumbers": true,
   "eqNumInitial": 1,
   "hotkeys": {
    "equation": "Ctrl-E",
    "itemize": "Ctrl-I"
   },
   "labels_anchors": false,
   "latex_user_defs": false,
   "report_style_numbering": false,
   "user_envs_cfg": false
  },
  "nbTranslate": {
   "displayLangs": [
    "en"
   ],
   "hotkey": "alt-t",
   "langInMainMenu": true,
   "sourceLang": "en",
   "targetLang": "fr",
   "useGoogleTranslate": true
  },
  "varInspector": {
   "cols": {
    "lenName": 16,
    "lenType": 16,
    "lenVar": 40
   },
   "kernels_config": {
    "python": {
     "delete_cmd_postfix": "",
     "delete_cmd_prefix": "del ",
     "library": "var_list.py",
     "varRefreshCmd": "print(var_dic_list())"
    },
    "r": {
     "delete_cmd_postfix": ") ",
     "delete_cmd_prefix": "rm(",
     "library": "var_list.r",
     "varRefreshCmd": "cat(var_dic_list()) "
    }
   },
   "types_to_exclude": [
    "module",
    "function",
    "builtin_function_or_method",
    "instance",
    "_Feature"
   ],
   "window_display": false
  }
 },
 "nbformat": 4,
 "nbformat_minor": 4
}
